{
 "cells": [
  {
   "cell_type": "markdown",
   "id": "7fca5a18-3be4-49f8-892a-c9ca541399de",
   "metadata": {},
   "source": [
    "# Solving problems by Searching\n",
    "This notebook serves as supporting material for topics covered in Solving Problems by Searching \n",
    "\n",
    "## Problem \n",
    "Let's see how we define the Problem. \n",
    "\n",
    "As discussed in the lecture, `Problem` class has five methods.\n",
    "\n",
    "* `initial_state(self)` : This returns the initial state \n",
    "\n",
    "* `actions(self, state)` : This method returns all the possible actions agent can execute in the given state `state`.\n",
    "\n",
    "* `result(self, state, action)` : This returns the resulting state if action `action` is taken in the state `state`. This `Problem` class only deals with deterministic outcomes. So we know for sure what every action in a state would result to.\n",
    "\n",
    "* `goal_test(self, state)` : Return a boolean for a given state - `True` if it is a goal state, else `False`.\n",
    "\n",
    "* `path_cost(self, c, state1, action, state2)` : Return the cost of the path that arrives at `state2` as a result of taking `action` from `state1`, assuming total cost of `c` to get up to `state1`.\n",
    "\n",
    "In this implementation we will combine \n",
    "\n",
    "Run the next cell to see how the Problem is defined"
   ]
  },
  {
   "cell_type": "code",
   "execution_count": 1,
   "id": "fc34e2bc-5eec-4ea4-9be7-cd60016dbc7e",
   "metadata": {},
   "outputs": [],
   "source": [
    "class GraphProblem():\n",
    "    \n",
    "    def __init__(self, vertices, edges, start, goal, heuristic_values=[]):\n",
    "        self.vertices = vertices\n",
    "        self.edges = edges\n",
    "        self.start = start\n",
    "        self.goal = goal\n",
    "        self.heuristic_values = heuristic_values\n",
    "            \n",
    "    def initial_state(self):\n",
    "      return self.start\n",
    "\n",
    "    def goal_test(self, state):\n",
    "      return state == self.goal\n",
    "      \n",
    "    def result(self, state):    \n",
    "        connected_actions = []\n",
    "        for edge in self.edges:\n",
    "            if edge[0] == state:\n",
    "                connected_actions.append((edge[1], edge[1]))  # (action, resulting state)\n",
    "            elif edge[1] == state:\n",
    "                connected_actions.append((edge[0], edge[0]))  # (action, resulting state)\n",
    "        connected_actions.sort()\n",
    "        return connected_actions\n",
    "        \n",
    "    def path_cost(self, state, newstate):\n",
    "        for edge in self.edges:\n",
    "            if (edge[0] == state and edge[1] == newstate) or (edge[1] == state and edge[0] == newstate):\n",
    "                return edge[2]  # Return the cost associated with the edge\n",
    "        return float('inf')  # Return infinity if no edge exists between the states\n",
    "\n",
    "    def heuristic(self, state):\n",
    "        return self.heuristic_values[self.vertices.index(state)]\n",
    "    \n",
    "    "
   ]
  },
  {
   "cell_type": "markdown",
   "id": "301aab55-1fc7-42c6-a50c-008db8f035c0",
   "metadata": {},
   "source": [
    "## Node\n",
    "Let's see how we define a Node. Run the next cell to see how class Node is defined. The Node class helps in constructing paths from the goal state back to the initial state. By maintaining references to parent nodes, we can traverse the path in reverse order, effectively reconstructing the sequence of actions leading to the goal state. "
   ]
  },
  {
   "cell_type": "code",
   "execution_count": 2,
   "id": "d18120b8-ad35-4a09-8ac5-616d9d4488bb",
   "metadata": {},
   "outputs": [],
   "source": [
    "class Node():\n",
    "    def __init__(self, state, parent, action, gcost=0, hcost=0):\n",
    "        self.state = state\n",
    "        self.parent = parent # parent of the current node\n",
    "        self.action = action # action that was taken to reach this node\n",
    "        self.gcost = gcost # cost\n",
    "        self.hcost = hcost # heuristic\n",
    "    def __lt__(self, other):\n",
    "        return self.gcost+self.hcost < other.gcost+other.hcost"
   ]
  },
  {
   "cell_type": "markdown",
   "id": "3316488c-665a-416a-9088-4c164d4f4f9d",
   "metadata": {},
   "source": [
    "## Datastructure for Frontier"
   ]
  },
  {
   "cell_type": "code",
   "execution_count": 3,
   "id": "df1040b0-b4cc-4fea-b7b3-8fb360013afc",
   "metadata": {},
   "outputs": [],
   "source": [
    "import heapq\n",
    "# Last in first out frontier\n",
    "class StackFrontier():\n",
    "    def __init__(self):\n",
    "        self.frontier = []\n",
    "\n",
    "    def add(self, node):\n",
    "        self.frontier.append(node)\n",
    "\n",
    "    def contains_state(self, state):\n",
    "        return any(node.state == state for node in self.frontier)\n",
    "\n",
    "    def empty(self):\n",
    "        return len(self.frontier) == 0\n",
    "\n",
    "    def remove(self):\n",
    "        if self.empty():\n",
    "            raise Exception(\"empty frontier\")\n",
    "        else:\n",
    "            node = self.frontier.pop()\n",
    "            return node\n",
    "\n",
    "# First in first out frontier\n",
    "class QueueFrontier(StackFrontier):\n",
    "\n",
    "    def remove(self):\n",
    "        if self.empty():\n",
    "            raise Exception(\"empty frontier\")\n",
    "        else:\n",
    "            node = self.frontier.pop(0)\n",
    "            return node\n",
    "class PQueueFrontier(StackFrontier):\n",
    "    def __init__(self):\n",
    "        self.frontier = []\n",
    "\n",
    "    def add(self, node):\n",
    "        heapq.heappush(self.frontier, node)\n",
    "\n",
    "    def contains_state(self, state):\n",
    "        return any(node.state == state for node in self.frontier)\n",
    "\n",
    "    def empty(self):\n",
    "        return len(self.frontier) == 0\n",
    "\n",
    "    def remove(self):\n",
    "        if self.empty():\n",
    "            raise Exception(\"empty frontier\")\n",
    "        else:\n",
    "            node = heapq.heappop(self.frontier)\n",
    "            return node"
   ]
  },
  {
   "cell_type": "markdown",
   "id": "fee82356-541d-4232-9917-6d377e5d7834",
   "metadata": {},
   "source": [
    "## Graph Search Algorithm"
   ]
  },
  {
   "cell_type": "code",
   "execution_count": 4,
   "id": "43e7c82f-3c7e-4f13-98d9-9046c212a4a9",
   "metadata": {},
   "outputs": [],
   "source": [
    "def graph_search(problem):\n",
    "    # Initialize frontier to just the starting position\n",
    "    start = Node(state=problem.initial_state(), parent=None, action=None)\n",
    "    frontier = Frontier();\n",
    "    frontier.add(start)\n",
    "    \n",
    "    # Initialize an empty explored set\n",
    "    explored = set()\n",
    "    \n",
    "    # Keep looping until solution found\n",
    "    while True:\n",
    "        # If nothing left in frontier, then no path\n",
    "        if frontier.empty():\n",
    "            raise Exception(\"no solution\")\n",
    "\n",
    "        # Choose a node from the frontier\n",
    "        node = frontier.remove()\n",
    "\n",
    "        # Mark node as explored\n",
    "        explored.add(node.state)\n",
    "        \n",
    "        \n",
    "        # If node is the goal, then we have a solution\n",
    "        if problem.goal_test(node.state):\n",
    "            actions = []\n",
    "            cells = []\n",
    "            while node.parent is not None:\n",
    "                actions.append(node.action)\n",
    "                cells.append(node.state)\n",
    "                node = node.parent\n",
    "            \n",
    "            actions.append(node.action)\n",
    "            cells.append(node.state)\n",
    "            \n",
    "            actions.reverse()\n",
    "            cells.reverse()\n",
    "            solution = (actions, cells)\n",
    "            return solution, explored\n",
    "\n",
    "        # Add neighbors to frontier\n",
    "        for action, state in problem.result(node.state):\n",
    "            if not frontier.contains_state(state) and state not in explored:\n",
    "                child = Node(state=state, parent=node, action=action)\n",
    "                frontier.add(child)\n",
    "                "
   ]
  },
  {
   "cell_type": "markdown",
   "id": "443f32f8-d60b-4953-8db9-2990b87fd621",
   "metadata": {},
   "source": [
    "## Graph Search Algorithm (Uniformed Cost, A* and Greedy)"
   ]
  },
  {
   "cell_type": "code",
   "execution_count": 30,
   "id": "32ff316a-3a9f-4c04-8eba-4031559838aa",
   "metadata": {},
   "outputs": [],
   "source": [
    "def graph_search_cost(problem, algo):\n",
    "    \n",
    "    # Initialize frontier to just the starting position\n",
    "    start = Node(state=problem.start, parent=None, action=None, gcost=0, hcost=0)\n",
    "        \n",
    "    frontier = PQueueFrontier()\n",
    "    frontier.add(start)\n",
    "    \n",
    "    # Initialize an empty explored set\n",
    "    explored = set()\n",
    "    \n",
    "    # Keep looping until solution found\n",
    "    while True:\n",
    "        # If nothing left in frontier, then no path\n",
    "        if frontier.empty():\n",
    "            raise Exception(\"no solution\")\n",
    "        \n",
    "        # Choose a node from the frontier\n",
    "        node = frontier.remove()\n",
    "\n",
    "        # Mark node as explored\n",
    "        explored.add(node.state)\n",
    "        \n",
    "        # If node is the goal, then we have a solution\n",
    "        if problem.goal_test(node.state):\n",
    "            actions = []\n",
    "            cells = []\n",
    "            while node.parent is not None:\n",
    "                actions.append(node.action)\n",
    "                cells.append(node.state)\n",
    "                node = node.parent\n",
    "            actions.append(node.action)\n",
    "            cells.append(node.state[0])\n",
    "            \n",
    "            actions.reverse()\n",
    "            cells.reverse()\n",
    "            solution = (actions, cells)\n",
    "            return solution, explored\n",
    "\n",
    "        \n",
    "        # Add neighbors to frontier\n",
    "        for action, state in problem.result(node.state):\n",
    "            #if not frontier.contains_state(state) and state not in explored:\n",
    "            if state not in explored:\n",
    "                if algo == 'ucs':\n",
    "                    child = Node(state=state, parent=node, action=action, gcost=node.gcost+problem.path_cost(node.state, state), hcost=0)\n",
    "                elif algo == 'greedy':\n",
    "                    child = Node(state=state, parent=node, action=action, gcost=0, hcost=problem.heuristic(state))\n",
    "                elif algo == 'a*':\n",
    "                    child = Node(state=state, parent=node, action=action, gcost=node.gcost+problem.path_cost(node.state, state), hcost=problem.heuristic(state))\n",
    "                else:\n",
    "                    raise Exception(\"Error\")\n",
    "                   \n",
    "                frontier.add(child)"
   ]
  },
  {
   "cell_type": "markdown",
   "id": "a2537bc5-a6ec-4fcd-9ea0-ff62fb1aab4d",
   "metadata": {},
   "source": [
    "## Solution"
   ]
  },
  {
   "cell_type": "code",
   "execution_count": 16,
   "id": "c58b81cc-d2ab-4319-9b4a-1ac4d09e9a2f",
   "metadata": {},
   "outputs": [
    {
     "name": "stdout",
     "output_type": "stream",
     "text": [
      "([None, 'B', 'C', 'J'], ['S', 'B', 'C', 'J'])\n",
      "{'A', 'J', 'C', 'B', 'S', 'E', 'H', 'F'}\n"
     ]
    }
   ],
   "source": [
    "# Problem 1\n",
    "vertices = ['S', 'A', 'B', 'C', 'D', 'E', 'F', 'H', 'J', 'K', 'L', 'T']\n",
    "edges = [\n",
    "    ('S', 'A'), ('S', 'B'),\n",
    "    ('A', 'F'),\n",
    "    ('B', 'F'), ('B', 'C'),\n",
    "    ('C', 'E'),\n",
    "    ('D', 'H'),\n",
    "    ('C', 'J'),\n",
    "    ('F', 'H'),\n",
    "    ('H', 'K'),\n",
    "    ('J', 'L'),\n",
    "    ('K', 'J'), ('K', 'T'),\n",
    "    ('L', 'T')\n",
    "]\n",
    "\n",
    "problem = GraphProblem(vertices, edges, 'S', 'J')\n",
    "solution, explored = graph_search(problem)\n",
    "print(solution)\n",
    "print(explored)"
   ]
  },
  {
   "cell_type": "code",
   "execution_count": 35,
   "id": "87c3c4d5-4783-4d07-90b3-a7d76451e5b4",
   "metadata": {},
   "outputs": [
    {
     "name": "stdout",
     "output_type": "stream",
     "text": [
      "([None, 'A', 'F', 'H', 'K', 'T'], ['S', 'A', 'F', 'H', 'K', 'T'])\n",
      "['S', 'A', 'B', 'F', 'C', 'H', 'E', 'J', 'D', 'K', 'L', 'T']\n"
     ]
    }
   ],
   "source": [
    "# Problem 1, with cost\n",
    "vertices = ['S', 'A', 'B', 'C', 'D', 'E', 'F', 'H', 'J', 'K', 'L', 'T']\n",
    "heuristics =[10,  6,   20,   2,   5,   1,  2,  2,   3,   1,   4,   0]\n",
    "edges = [\n",
    "    ('S', 'A', 2), ('S', 'B', 10),\n",
    "    ('A', 'F', 4),\n",
    "    ('B', 'F', 2), ('B', 'C', 5),\n",
    "    ('C', 'E', 5),\n",
    "    ('D', 'H', 3),\n",
    "    ('C', 'J', 12),\n",
    "    ('F', 'H', 8),\n",
    "    ('H', 'K', 5),\n",
    "    ('J', 'L', 4),\n",
    "    ('K', 'J', 1), ('K', 'T', 7),\n",
    "    ('L', 'T', 5)\n",
    "]\n",
    "problem = GraphProblem(vertices, edges, 'S', 'T', heuristics)\n",
    "solution, explored = graph_search_cost(problem, algo='astart')\n",
    "print(solution)\n",
    "print(explored)"
   ]
  },
  {
   "cell_type": "code",
   "execution_count": 8,
   "id": "46d685ff-e468-4b26-bc06-7a726d0b17bc",
   "metadata": {},
   "outputs": [
    {
     "name": "stdout",
     "output_type": "stream",
     "text": [
      "([None, 'F', 'H', 'I', 'G'], ['S', 'F', 'H', 'I', 'G'])\n",
      "{'S', 'F', 'H', 'I', 'G'}\n"
     ]
    }
   ],
   "source": [
    "# Problem 2\n",
    "vertices =  ['S', 'A', 'B', 'C', 'D', 'E', 'F', 'H', 'I', 'G']\n",
    "node_values = [0, 60, 50, 55, 50, 56, 50, 39, 0, 0]\n",
    "edges = [\n",
    "    ('S', 'A', 100), ('S', 'B', 3), ('S', 'E', 14), ('S', 'F', 4),\n",
    "    ('A', 'C', 4), ('B', 'D', 4), ('C', 'I', 50), ('D', 'I', 50), ('E', 'H', 16),\n",
    "    ('F', 'H', 16), ('H', 'I', 30), ('I', 'G', 10)\n",
    "]\n",
    "problem = GraphProblem(vertices, edges, 'S', 'G')\n",
    "solution, explored = graph_search(problem)\n",
    "print(solution)\n",
    "print(explored)"
   ]
  },
  {
   "cell_type": "code",
   "execution_count": 9,
   "id": "e55b8bc0-4d63-41c6-8cbc-447f96018b4e",
   "metadata": {},
   "outputs": [
    {
     "name": "stdout",
     "output_type": "stream",
     "text": [
      "([None, 'F', 'H', 'I', 'G'], ['S', 'F', 'H', 'I', 'G'])\n",
      "{'S', 'F', 'E', 'H', 'I', 'G', 'D', 'B'}\n"
     ]
    }
   ],
   "source": [
    "# Problem 2 UCS\n",
    "vertices =  ['S', 'A', 'B', 'C', 'D', 'E', 'F', 'H', 'I', 'G']\n",
    "heuristic = [0, 60, 50, 55, 50, 56, 50, 39, 0, 0]\n",
    "edges = [\n",
    "    ('S', 'A', 100), ('S', 'B', 3), ('S', 'E', 14), ('S', 'F', 4),\n",
    "    ('A', 'C', 4), ('B', 'D', 4), ('C', 'I', 50), ('D', 'I', 50), ('E', 'H', 16),\n",
    "    ('F', 'H', 16), ('H', 'I', 30), ('I', 'G', 10)\n",
    "]\n",
    "problem = GraphProblem(vertices, edges, 'S', 'G', heuristic)\n",
    "solution, explored = graph_search_cost(problem, algo='ucs')\n",
    "print(solution)\n",
    "print(explored)"
   ]
  },
  {
   "cell_type": "code",
   "execution_count": null,
   "id": "e4540278-ea7c-48b1-b2c4-5c40b2a95cb1",
   "metadata": {},
   "outputs": [],
   "source": []
  },
  {
   "cell_type": "code",
   "execution_count": null,
   "id": "823ba581-dd97-49b1-811e-35eb8870ae16",
   "metadata": {},
   "outputs": [],
   "source": []
  },
  {
   "cell_type": "code",
   "execution_count": null,
   "id": "d8c8dfc7-fcf8-41a9-ba81-053979283890",
   "metadata": {},
   "outputs": [],
   "source": []
  }
 ],
 "metadata": {
  "kernelspec": {
   "display_name": "Python 3 (ipykernel)",
   "language": "python",
   "name": "python3"
  },
  "language_info": {
   "codemirror_mode": {
    "name": "ipython",
    "version": 3
   },
   "file_extension": ".py",
   "mimetype": "text/x-python",
   "name": "python",
   "nbconvert_exporter": "python",
   "pygments_lexer": "ipython3",
   "version": "3.10.10"
  }
 },
 "nbformat": 4,
 "nbformat_minor": 5
}
